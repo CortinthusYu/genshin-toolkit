{
 "cells": [
  {
   "cell_type": "code",
   "execution_count": 2,
   "metadata": {},
   "outputs": [],
   "source": [
    "from genshintoolkit.gtcommon.gtenum import EnumStats\n",
    "from genshintoolkit.gtcommon.atfdata import mainstat_values,substat_values\n",
    "from genshintoolkit.gtcommon.reaction import reaction_catalyze\n",
    "\n",
    "normal_muitipliers=[\n",
    "    (1.5475,1.25),\n",
    "    (1.6302,1.25),\n",
    "    (1.3602,1.25),\n",
    "    (1.0219,1.25),\n",
    "    (2.5865,1.25)\n",
    "]\n",
    "e2_muliplier=(2.8224,0)\n",
    "e3_multiplier=(0.5,2.5)\n",
    "\n",
    "atk_atfset=0.14*2\n",
    "em_atfset=50*1\n",
    "\n",
    "em_sands=mainstat_values[EnumStats.em]\n",
    "dmgb=mainstat_values[EnumStats.dmg_electro]\n",
    "cr_circlet=mainstat_values[EnumStats.cr]\n"
   ]
  },
  {
   "cell_type": "code",
   "execution_count": null,
   "metadata": {},
   "outputs": [],
   "source": [
    "\n",
    "\n",
    "\n"
   ]
  }
 ],
 "metadata": {
  "kernelspec": {
   "display_name": "Python 3.10.2 64-bit",
   "language": "python",
   "name": "python3"
  },
  "language_info": {
   "codemirror_mode": {
    "name": "ipython",
    "version": 3
   },
   "file_extension": ".py",
   "mimetype": "text/x-python",
   "name": "python",
   "nbconvert_exporter": "python",
   "pygments_lexer": "ipython3",
   "version": "3.10.2"
  },
  "orig_nbformat": 4,
  "vscode": {
   "interpreter": {
    "hash": "049fc2da526995ce3464884fbb560b2207c27bf66f6e0ec9ebb96f48dcc29fae"
   }
  }
 },
 "nbformat": 4,
 "nbformat_minor": 2
}
