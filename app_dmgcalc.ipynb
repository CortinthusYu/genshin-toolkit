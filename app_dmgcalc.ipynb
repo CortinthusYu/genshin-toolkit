{
 "cells": [
  {
   "cell_type": "markdown",
   "metadata": {},
   "source": [
    "# **genshin-toolkit 伤害计算器教程**\n",
    "这个教程将会逐步指导你完成\n",
    "- 角色、武器、圣遗物的配置\n",
    "- buff、hit的编写\n",
    "- 计算类的初始化与计算\n",
    "- 高级应用"
   ]
  },
  {
   "cell_type": "markdown",
   "metadata": {},
   "source": [
    "### **导入必须的库**\n",
    "依赖顺序 \n",
    "gtenum->artifact->damagecalc"
   ]
  },
  {
   "cell_type": "code",
   "execution_count": 1,
   "metadata": {},
   "outputs": [],
   "source": [
    "#gtenum定义了基本类型、属性、伤害等枚举，用import * 的方式导入\n",
    "from genshintoolkit.gtcommon.gtenum import *\n",
    "#artifact.py定义了Artifact、ArtifactSet两个圣遗物类\n",
    "from genshintoolkit.artifact import Artifact,ArtifactSet,ArtifcatStats\n",
    "#damagecalc.py定义了Buff、hit等重要类，用import * 的方式导入\n",
    "from genshintoolkit.damagecalc import *\n",
    "#导入交互用控件，用于生成圣遗物数值\n",
    "import ipywidgets as wd\n",
    "from IPython.display import display"
   ]
  },
  {
   "cell_type": "markdown",
   "metadata": {},
   "source": [
    "### **定义角色和武器**\n",
    "这里以乘区齐全而且有属性转换的角色胡桃作为例子来解说"
   ]
  },
  {
   "cell_type": "code",
   "execution_count": 2,
   "metadata": {},
   "outputs": [],
   "source": [
    "#攻击防御生命的白值，角色突破成长属性、副属性用一个以EnumStat为键的dict来提供\n",
    "hutao=Character(base_atk=106.4,base_def=876,base_hp=15552,base_bonus={EnumStats.crit_dmg:0.384})\n",
    "homa=Weapon(base_atk=608,substat={EnumStats.crit_dmg:0.662},effect=None)"
   ]
  },
  {
   "cell_type": "markdown",
   "metadata": {},
   "source": [
    "### **设置圣遗物**\n",
    "设置圣遗物有两种方式\n",
    "- Artifact类\n",
    "- stat dict"
   ]
  },
  {
   "cell_type": "code",
   "execution_count": 3,
   "metadata": {},
   "outputs": [
    {
     "name": "stdout",
     "output_type": "stream",
     "text": [
      "{<EnumStats.atk_percent: 'atk_percent'>: 0.156, <EnumStats.crit_rate: 'crit_rate'>: 0.039, <EnumStats.crit_dmg: 'crit_dmg'>: 0.078, <EnumStats.elemental_mastery: 'elemental_mastery'>: 21}\n"
     ]
    }
   ],
   "source": [
    "#直接输入数值完成圣遗物设置，其中main_stat和sub_stat都是stat dict\n",
    "flower=Artifact(setname=EnumArtifactSet.CrimsonWitchOfFlames,\n",
    "                piecename_cn='魔女花', #注释名不会影响结果，可以空串留空或者用喜欢的名字\n",
    "                position=EnumArtifactPosition.flower,\n",
    "                level=20,\n",
    "                star=5,\n",
    "                main_stat={EnumStats.hp_static:4780},\n",
    "                sub_stats={\n",
    "                    EnumStats.atk_percent:0.156,\n",
    "                    EnumStats.crit_rate:0.039,\n",
    "                    EnumStats.crit_dmg:0.078,\n",
    "                    EnumStats.elemental_mastery:21\n",
    "                })\n",
    "print(flower.sub_stats)\n"
   ]
  },
  {
   "cell_type": "markdown",
   "metadata": {},
   "source": [
    "Artifact库提供了一些工具函数用于生成圣遗物"
   ]
  },
  {
   "cell_type": "code",
   "execution_count": 4,
   "metadata": {},
   "outputs": [],
   "source": [
    "\n",
    "#使用artifact库里的pull_substats函数随机抽取词条，接受的参数是主词条的枚举\n",
    "from genshintoolkit.artifact import pull_substats\n",
    "plume=Artifact(setname=EnumArtifactSet.CrimsonWitchOfFlames,\n",
    "                piecename_cn='魔女毛', #注释名不会影响结果，可以空串留空或者用喜欢的名字\n",
    "                position=EnumArtifactPosition.plume,\n",
    "                level=20,\n",
    "                star=5,\n",
    "                main_stat={EnumStats.hp_static:4780},#不会检查属性的类别和数值，可以放心填写\n",
    "                sub_stats=pull_substats(EnumStats.atk_static)\n",
    "                )\n",
    "\n",
    "#或者可以用pull_piece方法直接抽取一件，此处重复抽取直到抽到生命沙为止,此方法接收EnumAritifactSet作为参数，默认为Dummy\n",
    "#position作为可选参数\n",
    "from genshintoolkit.artifact import pull_piece\n",
    "sands:Artifact\n",
    "while True:\n",
    "    sands=pull_piece(EnumArtifactSet.CrimsonWitchOfFlames,position=EnumArtifactPosition.sands)\n",
    "    if sands.position==EnumArtifactPosition.sands:\n",
    "        break\n",
    "\n",
    "#根据词条数来生成圣遗物,输入的参数是四个词条的元组和强化元组的元组\n",
    "from genshintoolkit.artifact import gen_artifact_bypoints\n",
    "#需要的4个词条分别为大生命、暴击、暴伤、精通\n",
    "globlet_stats=(EnumStats.hp_percent,EnumStats.crit_rate,EnumStats.cd,EnumStats.em)\n",
    "#生命跳2次第二档1次第三档，暴击跳3次最高档，爆伤精通初始分别为第一、第二档\n",
    "globlet_matrix=(\n",
    "    (0,2,1,0),\n",
    "    (0,0,0,3),\n",
    "    (1,0,0,0),\n",
    "    (0,1,0,0)\n",
    ")\n",
    "globlet=Artifact(setname=EnumArtifactSet.CrimsonWitchOfFlames,\n",
    "                piecename_cn='魔女杯', #注释名不会影响结果，可以空串留空或者用喜欢的名字\n",
    "                position=EnumArtifactPosition.globlet,\n",
    "                level=20,\n",
    "                star=5,\n",
    "                main_stat={EnumStats.dmg_pyro:0.466},\n",
    "                sub_stats=gen_artifact_bypoints(sub_stats=globlet_stats,matrix=globlet_matrix)\n",
    "                )\n"
   ]
  },
  {
   "cell_type": "code",
   "execution_count": 5,
   "metadata": {},
   "outputs": [
    {
     "data": {
      "application/vnd.jupyter.widget-view+json": {
       "model_id": "ef3fbda1fd7a4c8aa1fba71aef17ff1a",
       "version_major": 2,
       "version_minor": 0
      },
      "text/plain": [
       "IntSlider(value=1, description='hp%', max=5, min=1)"
      ]
     },
     "metadata": {},
     "output_type": "display_data"
    },
    {
     "data": {
      "application/vnd.jupyter.widget-view+json": {
       "model_id": "092f4a91bc0a445b81aaeb7480d18d73",
       "version_major": 2,
       "version_minor": 0
      },
      "text/plain": [
       "IntSlider(value=1, description='crit rate', max=5, min=1)"
      ]
     },
     "metadata": {},
     "output_type": "display_data"
    },
    {
     "data": {
      "application/vnd.jupyter.widget-view+json": {
       "model_id": "6f9418352bad49f5ad13d20858759a56",
       "version_major": 2,
       "version_minor": 0
      },
      "text/plain": [
       "IntSlider(value=1, description='crit dmg', max=5, min=1)"
      ]
     },
     "metadata": {},
     "output_type": "display_data"
    },
    {
     "data": {
      "application/vnd.jupyter.widget-view+json": {
       "model_id": "6abfad8969014b14864f520a3064143b",
       "version_major": 2,
       "version_minor": 0
      },
      "text/plain": [
       "IntSlider(value=1, description='elem mastery', max=5, min=1)"
      ]
     },
     "metadata": {},
     "output_type": "display_data"
    }
   ],
   "source": [
    "\n",
    "#使用get_artifact_bypoints_avg方法，根据词条平均值来生成圣遗物\n",
    "from genshintoolkit.artifact import gen_artifact_bypoints_avg\n",
    "slider1=wd.IntSlider(value=0,min=1,max=5,step=1,description='hp%')\n",
    "slider2=wd.IntSlider(value=0,min=1,max=5,step=1,description='crit rate')\n",
    "slider3=wd.IntSlider(value=0,min=1,max=5,step=1,description='crit dmg')\n",
    "slider4=wd.IntSlider(value=0,min=1,max=5,step=1,description='elem mastery')\n",
    "circlet_sliders=(slider1,slider2,slider3,slider4)\n",
    "for s in circlet_sliders:\n",
    "    display(s)\n"
   ]
  },
  {
   "cell_type": "code",
   "execution_count": 6,
   "metadata": {},
   "outputs": [
    {
     "name": "stdout",
     "output_type": "stream",
     "text": [
      "(1, 1, 1, 1)\n",
      "None\n"
     ]
    }
   ],
   "source": [
    "\n",
    "circlet_vector=(slider1.value,slider2.value,slider3.value,slider4.value)\n",
    "print(circlet_vector)\n",
    "circlet=Artifact(setname=EnumArtifactSet.CrimsonWitchOfFlames,\n",
    "                piecename_cn='魔女头', #注释名不会影响结果，可以空串留空或者用喜欢的名字\n",
    "                position=EnumArtifactPosition.circlet,\n",
    "                level=20,\n",
    "                star=5,\n",
    "                main_stat={EnumStats.crit_rate:0.311},\n",
    "                sub_stats=gen_artifact_bypoints_avg((EnumStats.hp_percent,EnumStats.crit_rate,EnumStats.cd,EnumStats.em),circlet_vector))\n",
    "print(circlet.sub_stats)\n",
    "                \n"
   ]
  },
  {
   "cell_type": "code",
   "execution_count": 7,
   "metadata": {},
   "outputs": [],
   "source": [
    "\n",
    "atf_set1=ArtifactSet(flower=flower,plume=plume,sands=sands,goblet=globlet,circlet=circlet)\n",
    "\n",
    "#ArtifactSet内置unpack方法可以把圣遗物解包成stat dict形式，或者你可以直接编写stat dict并将它传给dmgcalc对象\n",
    "#atf_statdict=ArtifactSet.unpack()\n",
    "#print(atf_statdict)"
   ]
  },
  {
   "cell_type": "markdown",
   "metadata": {},
   "source": [
    "### **编写buff**\n",
    "此处使用班尼特、云堇、砂糖、万叶来介绍buff的编写方法"
   ]
  },
  {
   "cell_type": "code",
   "execution_count": 8,
   "metadata": {},
   "outputs": [],
   "source": [
    "buff_bennnet_q=Buff(\n",
    "    name='bennett_q',#会被作为检索的依据\n",
    "    apply_to=ApplyTagsSet(\n",
    "        type_action=[EnumAction.all,],#对普重下落等所有动作类型生效\n",
    "        type_element=[EnumHitElementType.all,],#只对元素生效用elemental，全生效或物理生效用all，physical\n",
    "        type_reaction=[EnumReaction.all,] #蒸发要同时写上vape_pryo和vape_hydro，融化同理\n",
    "        #TODO:优化applyto条件\n",
    "    ),\n",
    "    target_stat=EnumStats.atk_static,#加成的类型是固定生命值\n",
    "    value=(191+674)*1.39,#数值取90级班尼特雾切13级q\n",
    "    required_stats=None,#不随被buff角色自身的属性变化\n",
    "    calc_func=None,#同上\n",
    "    is_snapshot=False, #不存在快照\n",
    "    is_static=True #不随被buff角色自身的属性变化\n",
    ")\n",
    "#无条件buff可用预定义的无条件预设applytag_all\n",
    "\n",
    "buff_hutao_e=Buff(\n",
    "    name='hutao_e',\n",
    "    apply_to=applytag_all,\n",
    "    target_stat=EnumStats.atk_static,\n",
    "    value=None,#随被buff角色数值变化的，value留成None\n",
    "    required_stats=[EnumStats.hp_static,],#需要根据自身的生命值来计算加成数值\n",
    "    calc_func=lambda x :x[EnumStats.hp_static]*0.0626,#程序会根据require_stats要求获取的面板数值返回相应的stat dict，calc_func要以statdict作为参数并返回数值\n",
    "    is_snapshot=True, #在e开启的一瞬间锁面板，后续不再变化\n",
    "    is_static=False #不随被buff角色自身的属性变化\n",
    "    \n",
    ")\n",
    "\n",
    "#包含复合效果的技能，对每个数值的修改都要单独写成独立的buff\n",
    "buff_mona_q_dmgbonus=Buff(\n",
    "    name='mona_q_dmgbonus',\n",
    "    apply_to=applytag_all,\n",
    "    target_stat=EnumStats.dmg_bonus_all,\n",
    "    value=0.54,\n",
    "    required_stats=None,\n",
    "    calc_func=None,\n",
    "    is_snapshot=True,\n",
    "    is_static=True\n",
    ")\n",
    "\n",
    "buff_mona_q_amping=Buff(\n",
    "    name='mona_q_amping',\n",
    "    apply_to=ApplyTagsSet(\n",
    "        type_action=[EnumAction.all,],\n",
    "        type_element=[EnumHitElementType.hydro,EnumHitElementType.pyro,EnumHitElementType.cryo],\n",
    "        type_reaction=[EnumReaction.melt_cryo,EnumReaction.melt_pyro,EnumReaction.vape_hydro,EnumReaction.vape_pyro]\n",
    "    ),\n",
    "    target_stat=EnumStats.reaction_bonus_amping,\n",
    "    value=0.15\n",
    ")\n",
    "\n",
    "#魔女二件套、魔女四件套"
   ]
  },
  {
   "cell_type": "markdown",
   "metadata": {},
   "source": [
    "### **编写Hit**\n",
    "Hit即角色做出一次攻击动作，hit对象内包含了伤害的动作类型（普攻、重击、下落），元素类型（元素、物理），反应类型（无，蒸发、融化），剧变反应，治疗等信息"
   ]
  },
  {
   "cell_type": "code",
   "execution_count": null,
   "metadata": {},
   "outputs": [],
   "source": [
    "hit_hutao_q=Hit(\n",
    "    type_action=EnumAction.burst,\n",
    "    type_element=EnumHitElementType.pyro,\n",
    "    multipliers=[\n",
    "        Multiplier(  #第一个效果，造成攻击倍率为494%的蒸发伤害\n",
    "            hit_result=EnumHitResult.amping_dmg,\n",
    "            atk=4.94,\n",
    "            hp=0,\n",
    "            defn=0,\n",
    "            em=0\n",
    "        ),\n",
    "        Multiplier(  #第二个效果，造成生命倍率为13.60%的治疗效果,倍率默认值为0，可不填\n",
    "            hit_result=EnumHitResult.heal,\n",
    "            atk=0,\n",
    "            defn=0,\n",
    "            hp=0.1360,\n",
    "            em=0\n",
    "        ),\n",
    "        Multiplier(  #第三个效果，造成超载伤害，倍率留空\n",
    "            hit_result=EnumHitResult.overload\n",
    "        )\n",
    "    ],\n",
    "    durition=0, #目前无相关功能\n",
    "    comment='' #对buff的注释\n",
    ")"
   ]
  }
 ],
 "metadata": {
  "kernelspec": {
   "display_name": "Python 3.10.2 64-bit",
   "language": "python",
   "name": "python3"
  },
  "language_info": {
   "codemirror_mode": {
    "name": "ipython",
    "version": 3
   },
   "file_extension": ".py",
   "mimetype": "text/x-python",
   "name": "python",
   "nbconvert_exporter": "python",
   "pygments_lexer": "ipython3",
   "version": "3.10.2"
  },
  "orig_nbformat": 4,
  "vscode": {
   "interpreter": {
    "hash": "049fc2da526995ce3464884fbb560b2207c27bf66f6e0ec9ebb96f48dcc29fae"
   }
  }
 },
 "nbformat": 4,
 "nbformat_minor": 2
}
