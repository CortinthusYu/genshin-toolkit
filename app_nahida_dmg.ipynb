{
 "cells": [
  {
   "cell_type": "code",
   "execution_count": 1,
   "metadata": {},
   "outputs": [],
   "source": [
    "%matplotlib inline\n",
    "from genshintoolkit.gtcommon.gtenum import *\n",
    "from genshintoolkit.gtcommon.atfdata import *\n",
    "from genshintoolkit.gtcommon.reaction import reaction_catalyze\n",
    "import numpy as np\n",
    "from matplotlib import pyplot as plt\n",
    "from genshintoolkit.gtcommon import factors"
   ]
  },
  {
   "cell_type": "code",
   "execution_count": 2,
   "metadata": {},
   "outputs": [],
   "source": [
    "# consts\n",
    "multiplier_e=[\n",
    "    ('atk',1.858),\n",
    "    ('em',3.715),\n",
    "]\n",
    "\n",
    "dmgb_e=lambda em:(em-200)*0.001 if 200<=em<=1000 else (0.8 if em>1000 else 0)\n",
    "cr_e=lambda em:(em-200)*0.0003 if 200<=em<=1000 else (0.24 if em>1000 else 0)\n",
    "\n",
    "baseatk_nahida=299\n",
    "em_nahida=115\n",
    "em_nahida_acc=lambda em: min(200,0.2*em)\n",
    "\n",
    "em_weapon1=265\n",
    "baseatk_weapon1=542\n",
    "\n",
    "em_weapon1_effect1=lambda charcount_same:charcount_same*32\n",
    "em_weapon1_effect2=40\n",
    "dmgb_weapon1_effect=lambda charcount_diff: charcount_diff*0.1\n",
    "\n",
    "em_glidedreams_2pcs=80\n",
    "em_glidedreams_4pcs=lambda char_diff: min(char_diff,3)*50\n",
    "atkp_glidedreams_4pcs=lambda char_same: min(char_same,3)*0.14\n"
   ]
  },
  {
   "cell_type": "code",
   "execution_count": 3,
   "metadata": {},
   "outputs": [],
   "source": [
    "# config 1: sub DPS"
   ]
  },
  {
   "cell_type": "code",
   "execution_count": 4,
   "metadata": {},
   "outputs": [],
   "source": [
    "def calc(atkp=0,em=0,cr=0,cd=0,grass_globlet=True):\n",
    "    factor_def_res=factors.defense()*factors.resistence(0.5)\n",
    "    atk=(baseatk_nahida+baseatk_weapon1)*(1+atkp)+311\n",
    "    em+=em_nahida_acc(em)\n",
    "    cr_bonus=cr_e(em)\n",
    "    crit=0.05+cr+0.311\n",
    "    cdmg=0.5+cd\n",
    "\n",
    "    while(crit>1):\n",
    "        crit-=0.033\n",
    "        cdmg+=0.066\n",
    "\n",
    "    basedmg=atk*1.858+em*3.175+reaction_catalyze(EnumCatalyzeReaction.spread,em)*0.5\n",
    "\n",
    "    return basedmg*\\\n",
    "            (1+\n",
    "                (0.466 if grass_globlet else 0)+\n",
    "                dmgb_e(em)+\n",
    "                dmgb_weapon1_effect(3))*\\\n",
    "            factors.critical(crit,cdmg)*\\\n",
    "            factor_def_res,\\\n",
    "            atk,em,crit,cdmg\n"
   ]
  },
  {
   "cell_type": "code",
   "execution_count": 5,
   "metadata": {},
   "outputs": [
    {
     "name": "stdout",
     "output_type": "stream",
     "text": [
      "最高期望42990.48，攻击：1270，精通：1103，暴击92.20%，爆伤：168.80%\n",
      "此时攻击分配0条，精通分配0条，暴击分配17条，爆伤分配18条\n"
     ]
    }
   ],
   "source": [
    "from genshintoolkit.math_tools import get_point_distribution\n",
    "from genshintoolkit.gtcommon.atfdata import substat_values_avg\n",
    "\n",
    "distr=get_point_distribution(35,4)\n",
    "max=[None,None]\n",
    "for i in distr:\n",
    "    atk,em,cr,cd=i\n",
    "    if cr<30 and cd+cr<=35 and em<=30:\n",
    "        result=calc(\n",
    "            substat_values_avg[EnumStats.atk_percent]*atk+\n",
    "                atkp_glidedreams_4pcs(1),\n",
    "            substat_values_avg[EnumStats.em]*em+em_nahida+\n",
    "                em_weapon1+em_weapon1_effect1(1)+\n",
    "                em_weapon1_effect2+\n",
    "                em_glidedreams_2pcs+\n",
    "                em_glidedreams_4pcs(2)+100+187,\n",
    "            substat_values_avg[EnumStats.crit_rate]*cr,\n",
    "            substat_values_avg[EnumStats.crit_dmg]*cd\n",
    "        )\n",
    "        if max[0] is None:\n",
    "            max[0]=result\n",
    "        else:\n",
    "            if result[0]>max[0][0]:\n",
    "                max[0]=result\n",
    "                max[1]=i\n",
    "\n",
    "dmg,atk,em,cr,cd=max[0]\n",
    "print(f'最高期望{dmg:.2f}，攻击：{round(atk)}，精通：{round(em)}，暴击{cr:.2%}，爆伤：{cd:.2%}')\n",
    "s='，'.join([f'{x}分配{y}条' for x,y in zip(['攻击','精通','暴击','爆伤'],max[1])])\n",
    "print(f'此时{s}')\n",
    "\n",
    "\n"
   ]
  },
  {
   "cell_type": "code",
   "execution_count": 6,
   "metadata": {},
   "outputs": [
    {
     "data": {
      "text/plain": [
       "<matplotlib.legend.Legend at 0x1d4bd94bcd0>"
      ]
     },
     "execution_count": 6,
     "metadata": {},
     "output_type": "execute_result"
    },
    {
     "data": {
      "image/png": "[encoded data removed]",
      "text/plain": [
       "<Figure size 640x480 with 1 Axes>"
      ]
     },
     "metadata": {},
     "output_type": "display_data"
    }
   ],
   "source": [
    "x_points=np.arange(0,30,1)\n",
    "labels=('em','crit')\n",
    "def calc2(em=0,crit=0):\n",
    "    cr=crit/2\n",
    "    cd=crit/2\n",
    "    return calc(\n",
    "            atkp_glidedreams_4pcs(1),\n",
    "            substat_values_avg[EnumStats.em]*em+em_nahida+\n",
    "                em_weapon1+em_weapon1_effect1(1)+\n",
    "                em_weapon1_effect2+\n",
    "                em_glidedreams_2pcs+\n",
    "                em_glidedreams_4pcs(2)+100+187,\n",
    "            substat_values_avg[EnumStats.crit_rate]*cr,\n",
    "            substat_values_avg[EnumStats.crit_dmg]*cd\n",
    "        )\n",
    "    \n",
    "em_curve=np.fromiter(\n",
    "    map(\n",
    "        lambda x: calc2(em=x+1)[0]/calc2(em=x)[0]-1,\n",
    "        x_points\n",
    "    ),\n",
    "    dtype=float\n",
    ")\n",
    "crit_curve=np.fromiter(\n",
    "    map(\n",
    "        lambda x: calc2(crit=x+1)[0]/calc2(crit=x)[0]-1,\n",
    "        x_points\n",
    "    ),\n",
    "    dtype=float\n",
    ")\n",
    "plt.plot(em_curve,label='em')\n",
    "plt.plot(crit_curve,label='crit')\n",
    "plt.legend()\n"
   ]
  },
  {
   "cell_type": "code",
   "execution_count": 7,
   "metadata": {},
   "outputs": [
    {
     "data": {
      "text/plain": [
       "5684.642857142857"
      ]
     },
     "execution_count": 7,
     "metadata": {},
     "output_type": "execute_result"
    }
   ],
   "source": [
    "reaction_catalyze(EnumCatalyzeReaction.spread,900)"
   ]
  }
 ],
 "metadata": {
  "kernelspec": {
   "display_name": "Python 3.9.12 ('base')",
   "language": "python",
   "name": "python3"
  },
  "language_info": {
   "codemirror_mode": {
    "name": "ipython",
    "version": 3
   },
   "file_extension": ".py",
   "mimetype": "text/x-python",
   "name": "python",
   "nbconvert_exporter": "python",
   "pygments_lexer": "ipython3",
   "version": "3.9.12"
  },
  "orig_nbformat": 4,
  "vscode": {
   "interpreter": {
    "hash": "4d537b4907f3dbb045c7970ed1619d52cffc4dd0f1709409425d523667d84834"
   }
  }
 },
 "nbformat": 4,
 "nbformat_minor": 2
}
