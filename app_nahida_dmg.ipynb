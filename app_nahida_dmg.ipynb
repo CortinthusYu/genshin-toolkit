{
 "cells": [
  {
   "cell_type": "code",
   "execution_count": 26,
   "metadata": {},
   "outputs": [],
   "source": [
    "from genshintoolkit.gtcommon.gtenum import *\n",
    "from genshintoolkit.gtcommon.atfdata import *\n",
    "from genshintoolkit.gtcommon.reaction import reaction_catalyze"
   ]
  },
  {
   "cell_type": "code",
   "execution_count": 27,
   "metadata": {},
   "outputs": [],
   "source": [
    "multiplier_e=[\n",
    "    ('atk',1.858),\n",
    "    ('em',3.715),\n",
    "]\n",
    "\n",
    "dmgb_e=lambda em:(em-200)*0.001 if 200<=em<=1000 else (0.8 if em>1000 else 0)\n",
    "cr_e=lambda em:(em-200)*0.0003 if 200<=em<=1000 else (0.24 if em>1000 else 0)\n",
    "\n",
    "baseatk_nahida=299\n",
    "em_nahida=115\n",
    "\n",
    "em_weapon1=265\n",
    "baseatk_weapon1=542\n",
    "\n",
    "em_weapon1_effect=lambda charcount_same:charcount_same*32\n",
    "dmgb_weapon1_effect=lambda charcount_diff: charcount_diff*0.1\n"
   ]
  },
  {
   "cell_type": "code",
   "execution_count": 28,
   "metadata": {},
   "outputs": [],
   "source": [
    "def calc(atkp,em,cr,cd,grass_globlet=True):\n",
    "    factor_def_res=0.5*(1+0.4/2)\n",
    "    atk=(baseatk_nahida+baseatk_weapon1)*(1+atkp)+311\n",
    "    em=em_nahida+em_weapon1+em_weapon1_effect(0)+em+187+80+150+32\n",
    "    cr_bonus=cr_e(em)\n",
    "    crit=0.05+cr+0.311\n",
    "    cdmg=0.5+cd\n",
    "\n",
    "    basedmg=atk*1.858+em*3.175+reaction_catalyze(EnumCatalyzeReaction.spread,em)*0.5\n",
    "\n",
    "    return basedmg*(1+(0.466 if grass_globlet else 0)+dmgb_e(em)+dmgb_weapon1_effect(3))*(1+crit*cdmg)*factor_def_res,atk,em,crit,cdmg\n"
   ]
  },
  {
   "cell_type": "code",
   "execution_count": 31,
   "metadata": {},
   "outputs": [
    {
     "name": "stdout",
     "output_type": "stream",
     "text": [
      "[(27210.84346315704, 1152.0, 929, 0.79, 1.622), (0, 5, 13, 17)]\n",
      "最高期望27210.84，攻击：1152.0，精通：929，暴击0.79，爆伤：1.62\n"
     ]
    }
   ],
   "source": [
    "from genshintoolkit.math_tools import get_point_distribution\n",
    "from genshintoolkit.gtcommon.atfdata import substat_values_avg\n",
    "\n",
    "distr=get_point_distribution(35,4)\n",
    "max=[None,None]\n",
    "for i in distr:\n",
    "    atk,em,cr,cd=i\n",
    "    if cr<30 and cd+cr<=30 and em<=30:\n",
    "        result=calc(\n",
    "            substat_values_avg[EnumStats.atk_percent]*atk,\n",
    "            substat_values_avg[EnumStats.em]*em,\n",
    "            substat_values_avg[EnumStats.crit_rate]*cr,\n",
    "            substat_values_avg[EnumStats.crit_dmg]*cd\n",
    "        )\n",
    "        if max[0] is None:\n",
    "            max[0]=result\n",
    "        else:\n",
    "            if result[0]>max[0][0]:\n",
    "                max[0]=result\n",
    "                max[1]=i\n",
    "\n",
    "dmg,atk,em,cr,cd=max[0]\n",
    "print(max)\n",
    "print(f'最高期望{dmg:.2f}，攻击：{atk}，精通：{em}，暴击{cr:.2f}，爆伤：{cd:.2f}')\n",
    "\n",
    "\n"
   ]
  },
  {
   "cell_type": "code",
   "execution_count": 30,
   "metadata": {},
   "outputs": [
    {
     "data": {
      "text/plain": [
       "(19149.27500471897, 1152.0, 1269, 0.361, 0.896)"
      ]
     },
     "execution_count": 30,
     "metadata": {},
     "output_type": "execute_result"
    }
   ],
   "source": [
    "calc(\n",
    "            substat_values_avg[EnumStats.atk_percent]*0,\n",
    "            substat_values_avg[EnumStats.em]*22,\n",
    "            substat_values_avg[EnumStats.crit_rate]*0,\n",
    "            substat_values_avg[EnumStats.crit_dmg]*6\n",
    "        )"
   ]
  }
 ],
 "metadata": {
  "kernelspec": {
   "display_name": "Python 3.9.12 ('base')",
   "language": "python",
   "name": "python3"
  },
  "language_info": {
   "codemirror_mode": {
    "name": "ipython",
    "version": 3
   },
   "file_extension": ".py",
   "mimetype": "text/x-python",
   "name": "python",
   "nbconvert_exporter": "python",
   "pygments_lexer": "ipython3",
   "version": "3.9.12"
  },
  "orig_nbformat": 4,
  "vscode": {
   "interpreter": {
    "hash": "4d537b4907f3dbb045c7970ed1619d52cffc4dd0f1709409425d523667d84834"
   }
  }
 },
 "nbformat": 4,
 "nbformat_minor": 2
}
